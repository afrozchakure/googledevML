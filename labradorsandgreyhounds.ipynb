{
 "cells": [
  {
   "cell_type": "code",
   "execution_count": 4,
   "metadata": {
    "scrolled": false
   },
   "outputs": [
    {
     "data": {
      "image/png": "[encoded data removed]",
      "text/plain": [
       "<Figure size 432x288 with 1 Axes>"
      ]
     },
     "metadata": {
      "needs_background": "light"
     },
     "output_type": "display_data"
    }
   ],
   "source": [
    "import numpy as np\n",
    "import matplotlib.pyplot as plt\n",
    "\n",
    "greyhounds = 500  # greyhounds\n",
    "labs = 500  # labrodors\n",
    "\n",
    "grey_height = 28 + 4 * np.random.randn(greyhounds)  # greyhounds are on average 28\n",
    "lab_height = 24 + 4 * np.random.randn(labs)  # labradors are on average 24 height with =-4 variation\n",
    "\n",
    "plt.hist([grey_height, lab_height], stacked = True, color=['r', 'b']) # greyhounds are red and labrodor are blue\n",
    "plt.show()  # Height is a useful feature                                                 "
   ]
  },
  {
   "cell_type": "code",
   "execution_count": null,
   "metadata": {},
   "outputs": [],
   "source": []
  }
 ],
 "metadata": {
  "kernelspec": {
   "display_name": "Python 3",
   "language": "python",
   "name": "python3"
  },
  "language_info": {
   "codemirror_mode": {
    "name": "ipython",
    "version": 3
   },
   "file_extension": ".py",
   "mimetype": "text/x-python",
   "name": "python",
   "nbconvert_exporter": "python",
   "pygments_lexer": "ipython3",
   "version": "3.7.1"
  }
 },
 "nbformat": 4,
 "nbformat_minor": 2
}
